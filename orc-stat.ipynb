{
 "cells": [
  {
   "cell_type": "code",
   "execution_count": 1,
   "metadata": {
    "collapsed": false
   },
   "outputs": [],
   "source": [
    "#import os\n",
    "#hive --orcfiledump --rowindex 1 hdfs://bigdata122:8020/user/hive/warehouse/target/000000_0 >orc.stat\n",
    "#hive --orcfiledump --rowindex 1 hdfs://bigdata122:8020/user/hive/warehouse/target/000001_0 >orc.stat"
   ]
  },
  {
   "cell_type": "code",
   "execution_count": 1,
   "metadata": {
    "collapsed": false,
    "scrolled": false
   },
   "outputs": [],
   "source": [
    "import re\n",
    "stat=open(\"orc.stat\")\n",
    "#Entry 0:count: 10000 hasNull: false min: 65946577 max: 65956576 sum: 659515765000 positions: 0,0,0\n",
    "enpattern=re.compile(\"^\\s+Entry\\s+(\\d+):count:\\s+(\\d+).*min:\\s+(\\S+)\\s+max:\\s+(\\S+)\\s+sum:\\s(\\S+)\")\n",
    "hist=[]\n",
    "for line in stat:\n",
    "    enmatch=enpattern.match(line)\n",
    "    if enmatch:\n",
    "        hist.append(enmatch.groups())\n",
    "sorted(hist,key=lambda p:int(p[2]))#int\n",
    "#sorted(hist,key=lambda p:p[2])#string"
   ]
  },
  {
   "cell_type": "code",
   "execution_count": null,
   "metadata": {
    "collapsed": true
   },
   "outputs": [],
   "source": []
  },
  {
   "cell_type": "code",
   "execution_count": null,
   "metadata": {
    "collapsed": true
   },
   "outputs": [],
   "source": []
  },
  {
   "cell_type": "code",
   "execution_count": null,
   "metadata": {
    "collapsed": true
   },
   "outputs": [],
   "source": []
  },
  {
   "cell_type": "code",
   "execution_count": null,
   "metadata": {
    "collapsed": true
   },
   "outputs": [],
   "source": []
  }
 ],
 "metadata": {
  "kernelspec": {
   "display_name": "Python 2",
   "language": "python",
   "name": "python2"
  },
  "language_info": {
   "codemirror_mode": {
    "name": "ipython",
    "version": 2
   },
   "file_extension": ".py",
   "mimetype": "text/x-python",
   "name": "python",
   "nbconvert_exporter": "python",
   "pygments_lexer": "ipython2",
   "version": "2.7.5"
  }
 },
 "nbformat": 4,
 "nbformat_minor": 1
}
